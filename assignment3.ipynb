{
 "cells": [
  {
   "cell_type": "markdown",
   "id": "020b2f36",
   "metadata": {},
   "source": [
    "## Spambase assignment "
   ]
  },
  {
   "cell_type": "code",
   "execution_count": 11,
   "id": "d4eb52c9",
   "metadata": {},
   "outputs": [],
   "source": [
    "#Import Python Libraries\n",
    "import pandas as pd\n",
    "import matplotlib.pylab as plt\n",
    "import seaborn as sns\n",
    "import nltk \n",
    "from nltk.corpus import stopwords\n",
    "import string"
   ]
  },
  {
   "cell_type": "markdown",
   "id": "4c11eaed",
   "metadata": {},
   "source": [
    "\n",
    "## Question 1.Import the spam dataset and print the first six rows"
   ]
  },
  {
   "cell_type": "code",
   "execution_count": 12,
   "id": "3cc6eba3",
   "metadata": {},
   "outputs": [
    {
     "data": {
      "text/html": [
       "<div>\n",
       "<style scoped>\n",
       "    .dataframe tbody tr th:only-of-type {\n",
       "        vertical-align: middle;\n",
       "    }\n",
       "\n",
       "    .dataframe tbody tr th {\n",
       "        vertical-align: top;\n",
       "    }\n",
       "\n",
       "    .dataframe thead th {\n",
       "        text-align: right;\n",
       "    }\n",
       "</style>\n",
       "<table border=\"1\" class=\"dataframe\">\n",
       "  <thead>\n",
       "    <tr style=\"text-align: right;\">\n",
       "      <th></th>\n",
       "      <th>word_freq_make:</th>\n",
       "      <th>word_freq_address:</th>\n",
       "      <th>word_freq_all:</th>\n",
       "      <th>word_freq_3d:</th>\n",
       "      <th>word_freq_our:</th>\n",
       "      <th>word_freq_over:</th>\n",
       "      <th>word_freq_remove:</th>\n",
       "      <th>word_freq_internet:</th>\n",
       "      <th>word_freq_order:</th>\n",
       "      <th>word_freq_mail:</th>\n",
       "      <th>...</th>\n",
       "      <th>char_freq_;:</th>\n",
       "      <th>char_freq_(:</th>\n",
       "      <th>char_freq_[:</th>\n",
       "      <th>char_freq_!:</th>\n",
       "      <th>char_freq_$:</th>\n",
       "      <th>char_freq_#:</th>\n",
       "      <th>capital_run_length_average:</th>\n",
       "      <th>capital_run_length_longest:</th>\n",
       "      <th>capital_run_length_total:</th>\n",
       "      <th>spam</th>\n",
       "    </tr>\n",
       "  </thead>\n",
       "  <tbody>\n",
       "    <tr>\n",
       "      <th>0</th>\n",
       "      <td>0.00</td>\n",
       "      <td>0.64</td>\n",
       "      <td>0.64</td>\n",
       "      <td>0.0</td>\n",
       "      <td>0.32</td>\n",
       "      <td>0.00</td>\n",
       "      <td>0.00</td>\n",
       "      <td>0.00</td>\n",
       "      <td>0.00</td>\n",
       "      <td>0.00</td>\n",
       "      <td>...</td>\n",
       "      <td>0.00</td>\n",
       "      <td>0.000</td>\n",
       "      <td>0.0</td>\n",
       "      <td>0.778</td>\n",
       "      <td>0.000</td>\n",
       "      <td>0.000</td>\n",
       "      <td>3.756</td>\n",
       "      <td>61</td>\n",
       "      <td>278</td>\n",
       "      <td>1</td>\n",
       "    </tr>\n",
       "    <tr>\n",
       "      <th>1</th>\n",
       "      <td>0.21</td>\n",
       "      <td>0.28</td>\n",
       "      <td>0.50</td>\n",
       "      <td>0.0</td>\n",
       "      <td>0.14</td>\n",
       "      <td>0.28</td>\n",
       "      <td>0.21</td>\n",
       "      <td>0.07</td>\n",
       "      <td>0.00</td>\n",
       "      <td>0.94</td>\n",
       "      <td>...</td>\n",
       "      <td>0.00</td>\n",
       "      <td>0.132</td>\n",
       "      <td>0.0</td>\n",
       "      <td>0.372</td>\n",
       "      <td>0.180</td>\n",
       "      <td>0.048</td>\n",
       "      <td>5.114</td>\n",
       "      <td>101</td>\n",
       "      <td>1028</td>\n",
       "      <td>1</td>\n",
       "    </tr>\n",
       "    <tr>\n",
       "      <th>2</th>\n",
       "      <td>0.06</td>\n",
       "      <td>0.00</td>\n",
       "      <td>0.71</td>\n",
       "      <td>0.0</td>\n",
       "      <td>1.23</td>\n",
       "      <td>0.19</td>\n",
       "      <td>0.19</td>\n",
       "      <td>0.12</td>\n",
       "      <td>0.64</td>\n",
       "      <td>0.25</td>\n",
       "      <td>...</td>\n",
       "      <td>0.01</td>\n",
       "      <td>0.143</td>\n",
       "      <td>0.0</td>\n",
       "      <td>0.276</td>\n",
       "      <td>0.184</td>\n",
       "      <td>0.010</td>\n",
       "      <td>9.821</td>\n",
       "      <td>485</td>\n",
       "      <td>2259</td>\n",
       "      <td>1</td>\n",
       "    </tr>\n",
       "    <tr>\n",
       "      <th>3</th>\n",
       "      <td>0.00</td>\n",
       "      <td>0.00</td>\n",
       "      <td>0.00</td>\n",
       "      <td>0.0</td>\n",
       "      <td>0.63</td>\n",
       "      <td>0.00</td>\n",
       "      <td>0.31</td>\n",
       "      <td>0.63</td>\n",
       "      <td>0.31</td>\n",
       "      <td>0.63</td>\n",
       "      <td>...</td>\n",
       "      <td>0.00</td>\n",
       "      <td>0.137</td>\n",
       "      <td>0.0</td>\n",
       "      <td>0.137</td>\n",
       "      <td>0.000</td>\n",
       "      <td>0.000</td>\n",
       "      <td>3.537</td>\n",
       "      <td>40</td>\n",
       "      <td>191</td>\n",
       "      <td>1</td>\n",
       "    </tr>\n",
       "    <tr>\n",
       "      <th>4</th>\n",
       "      <td>0.00</td>\n",
       "      <td>0.00</td>\n",
       "      <td>0.00</td>\n",
       "      <td>0.0</td>\n",
       "      <td>0.63</td>\n",
       "      <td>0.00</td>\n",
       "      <td>0.31</td>\n",
       "      <td>0.63</td>\n",
       "      <td>0.31</td>\n",
       "      <td>0.63</td>\n",
       "      <td>...</td>\n",
       "      <td>0.00</td>\n",
       "      <td>0.135</td>\n",
       "      <td>0.0</td>\n",
       "      <td>0.135</td>\n",
       "      <td>0.000</td>\n",
       "      <td>0.000</td>\n",
       "      <td>3.537</td>\n",
       "      <td>40</td>\n",
       "      <td>191</td>\n",
       "      <td>1</td>\n",
       "    </tr>\n",
       "    <tr>\n",
       "      <th>5</th>\n",
       "      <td>0.00</td>\n",
       "      <td>0.00</td>\n",
       "      <td>0.00</td>\n",
       "      <td>0.0</td>\n",
       "      <td>1.85</td>\n",
       "      <td>0.00</td>\n",
       "      <td>0.00</td>\n",
       "      <td>1.85</td>\n",
       "      <td>0.00</td>\n",
       "      <td>0.00</td>\n",
       "      <td>...</td>\n",
       "      <td>0.00</td>\n",
       "      <td>0.223</td>\n",
       "      <td>0.0</td>\n",
       "      <td>0.000</td>\n",
       "      <td>0.000</td>\n",
       "      <td>0.000</td>\n",
       "      <td>3.000</td>\n",
       "      <td>15</td>\n",
       "      <td>54</td>\n",
       "      <td>1</td>\n",
       "    </tr>\n",
       "  </tbody>\n",
       "</table>\n",
       "<p>6 rows × 58 columns</p>\n",
       "</div>"
      ],
      "text/plain": [
       "   word_freq_make:  word_freq_address:  word_freq_all:  word_freq_3d:  \\\n",
       "0             0.00                0.64            0.64            0.0   \n",
       "1             0.21                0.28            0.50            0.0   \n",
       "2             0.06                0.00            0.71            0.0   \n",
       "3             0.00                0.00            0.00            0.0   \n",
       "4             0.00                0.00            0.00            0.0   \n",
       "5             0.00                0.00            0.00            0.0   \n",
       "\n",
       "   word_freq_our:  word_freq_over:  word_freq_remove:  word_freq_internet:  \\\n",
       "0            0.32             0.00               0.00                 0.00   \n",
       "1            0.14             0.28               0.21                 0.07   \n",
       "2            1.23             0.19               0.19                 0.12   \n",
       "3            0.63             0.00               0.31                 0.63   \n",
       "4            0.63             0.00               0.31                 0.63   \n",
       "5            1.85             0.00               0.00                 1.85   \n",
       "\n",
       "   word_freq_order:  word_freq_mail:  ...  char_freq_;:  char_freq_(:  \\\n",
       "0              0.00             0.00  ...          0.00         0.000   \n",
       "1              0.00             0.94  ...          0.00         0.132   \n",
       "2              0.64             0.25  ...          0.01         0.143   \n",
       "3              0.31             0.63  ...          0.00         0.137   \n",
       "4              0.31             0.63  ...          0.00         0.135   \n",
       "5              0.00             0.00  ...          0.00         0.223   \n",
       "\n",
       "   char_freq_[:  char_freq_!:  char_freq_$:  char_freq_#:  \\\n",
       "0           0.0         0.778         0.000         0.000   \n",
       "1           0.0         0.372         0.180         0.048   \n",
       "2           0.0         0.276         0.184         0.010   \n",
       "3           0.0         0.137         0.000         0.000   \n",
       "4           0.0         0.135         0.000         0.000   \n",
       "5           0.0         0.000         0.000         0.000   \n",
       "\n",
       "   capital_run_length_average:  capital_run_length_longest:  \\\n",
       "0                        3.756                           61   \n",
       "1                        5.114                          101   \n",
       "2                        9.821                          485   \n",
       "3                        3.537                           40   \n",
       "4                        3.537                           40   \n",
       "5                        3.000                           15   \n",
       "\n",
       "   capital_run_length_total:  spam  \n",
       "0                        278     1  \n",
       "1                       1028     1  \n",
       "2                       2259     1  \n",
       "3                        191     1  \n",
       "4                        191     1  \n",
       "5                         54     1  \n",
       "\n",
       "[6 rows x 58 columns]"
      ]
     },
     "execution_count": 12,
     "metadata": {},
     "output_type": "execute_result"
    }
   ],
   "source": [
    "data = pd.read_csv(\"C:/Python/assignment/spam_dataset.csv\")\n",
    "\n",
    "data.head(6)\n",
    "\n"
   ]
  },
  {
   "cell_type": "markdown",
   "id": "2861742c",
   "metadata": {},
   "source": [
    "### Question 2. Read through the documentation of the original dataset here: http://archive.ics.uci.edu/ml/machine-learning-databases/spambase/spambase.names The dependent variable is \"spam\" where one indicates that an email is spam and zero otherwise. Which three variables in the dataset do you think will be important predictors in a model of spam? Why? \n",
    "\n",
    "Answer - word_freq_remove:, word_freq_your:, word_freq_000: -  This are the variables with the highest value of correlation to spam which is the target variable.\n"
   ]
  },
  {
   "cell_type": "code",
   "execution_count": 13,
   "id": "e5400b92",
   "metadata": {},
   "outputs": [],
   "source": [
    "final_data = data[['word_freq_remove:', 'word_freq_your:', 'word_freq_000:','spam']]"
   ]
  },
  {
   "cell_type": "code",
   "execution_count": 14,
   "id": "26090099",
   "metadata": {},
   "outputs": [],
   "source": [
    "#update data to set up for train test split\n",
    "X = final_data.loc[:, final_data.columns != 'spam']\n",
    "y = final_data['spam']"
   ]
  },
  {
   "cell_type": "code",
   "execution_count": 63,
   "id": "e1781c88",
   "metadata": {},
   "outputs": [
    {
     "data": {
      "text/html": [
       "<div>\n",
       "<style scoped>\n",
       "    .dataframe tbody tr th:only-of-type {\n",
       "        vertical-align: middle;\n",
       "    }\n",
       "\n",
       "    .dataframe tbody tr th {\n",
       "        vertical-align: top;\n",
       "    }\n",
       "\n",
       "    .dataframe thead th {\n",
       "        text-align: right;\n",
       "    }\n",
       "</style>\n",
       "<table border=\"1\" class=\"dataframe\">\n",
       "  <thead>\n",
       "    <tr style=\"text-align: right;\">\n",
       "      <th></th>\n",
       "      <th>word_freq_make:</th>\n",
       "      <th>word_freq_address:</th>\n",
       "      <th>word_freq_all:</th>\n",
       "      <th>word_freq_3d:</th>\n",
       "      <th>word_freq_our:</th>\n",
       "      <th>word_freq_over:</th>\n",
       "      <th>word_freq_remove:</th>\n",
       "      <th>word_freq_internet:</th>\n",
       "      <th>word_freq_order:</th>\n",
       "      <th>word_freq_mail:</th>\n",
       "      <th>...</th>\n",
       "      <th>char_freq_;:</th>\n",
       "      <th>char_freq_(:</th>\n",
       "      <th>char_freq_[:</th>\n",
       "      <th>char_freq_!:</th>\n",
       "      <th>char_freq_$:</th>\n",
       "      <th>char_freq_#:</th>\n",
       "      <th>capital_run_length_average:</th>\n",
       "      <th>capital_run_length_longest:</th>\n",
       "      <th>capital_run_length_total:</th>\n",
       "      <th>spam</th>\n",
       "    </tr>\n",
       "  </thead>\n",
       "  <tbody>\n",
       "    <tr>\n",
       "      <th>word_freq_make:</th>\n",
       "      <td>1.000000</td>\n",
       "      <td>-0.016759</td>\n",
       "      <td>0.065627</td>\n",
       "      <td>0.013273</td>\n",
       "      <td>0.023119</td>\n",
       "      <td>0.059674</td>\n",
       "      <td>0.007669</td>\n",
       "      <td>-0.003950</td>\n",
       "      <td>0.106263</td>\n",
       "      <td>0.041198</td>\n",
       "      <td>...</td>\n",
       "      <td>-0.026505</td>\n",
       "      <td>-0.021196</td>\n",
       "      <td>-0.033301</td>\n",
       "      <td>0.058292</td>\n",
       "      <td>0.117419</td>\n",
       "      <td>-0.008844</td>\n",
       "      <td>0.044491</td>\n",
       "      <td>0.061382</td>\n",
       "      <td>0.089165</td>\n",
       "      <td>0.126208</td>\n",
       "    </tr>\n",
       "    <tr>\n",
       "      <th>word_freq_address:</th>\n",
       "      <td>-0.016759</td>\n",
       "      <td>1.000000</td>\n",
       "      <td>-0.033526</td>\n",
       "      <td>-0.006923</td>\n",
       "      <td>-0.023760</td>\n",
       "      <td>-0.024840</td>\n",
       "      <td>0.003918</td>\n",
       "      <td>-0.016280</td>\n",
       "      <td>-0.003826</td>\n",
       "      <td>0.032962</td>\n",
       "      <td>...</td>\n",
       "      <td>-0.007282</td>\n",
       "      <td>-0.049837</td>\n",
       "      <td>-0.018527</td>\n",
       "      <td>-0.014461</td>\n",
       "      <td>-0.009605</td>\n",
       "      <td>0.001946</td>\n",
       "      <td>0.002083</td>\n",
       "      <td>0.000271</td>\n",
       "      <td>-0.022680</td>\n",
       "      <td>-0.030224</td>\n",
       "    </tr>\n",
       "    <tr>\n",
       "      <th>word_freq_all:</th>\n",
       "      <td>0.065627</td>\n",
       "      <td>-0.033526</td>\n",
       "      <td>1.000000</td>\n",
       "      <td>-0.020246</td>\n",
       "      <td>0.077734</td>\n",
       "      <td>0.087564</td>\n",
       "      <td>0.036677</td>\n",
       "      <td>0.012003</td>\n",
       "      <td>0.093786</td>\n",
       "      <td>0.032075</td>\n",
       "      <td>...</td>\n",
       "      <td>-0.033213</td>\n",
       "      <td>-0.016495</td>\n",
       "      <td>-0.033120</td>\n",
       "      <td>0.108140</td>\n",
       "      <td>0.087618</td>\n",
       "      <td>-0.003336</td>\n",
       "      <td>0.097398</td>\n",
       "      <td>0.107463</td>\n",
       "      <td>0.070114</td>\n",
       "      <td>0.196988</td>\n",
       "    </tr>\n",
       "    <tr>\n",
       "      <th>word_freq_3d:</th>\n",
       "      <td>0.013273</td>\n",
       "      <td>-0.006923</td>\n",
       "      <td>-0.020246</td>\n",
       "      <td>1.000000</td>\n",
       "      <td>0.003238</td>\n",
       "      <td>-0.010014</td>\n",
       "      <td>0.019784</td>\n",
       "      <td>0.010268</td>\n",
       "      <td>-0.002454</td>\n",
       "      <td>-0.004947</td>\n",
       "      <td>...</td>\n",
       "      <td>-0.000591</td>\n",
       "      <td>-0.012370</td>\n",
       "      <td>-0.007148</td>\n",
       "      <td>-0.003138</td>\n",
       "      <td>0.010862</td>\n",
       "      <td>-0.000298</td>\n",
       "      <td>0.005260</td>\n",
       "      <td>0.022081</td>\n",
       "      <td>0.021369</td>\n",
       "      <td>0.057371</td>\n",
       "    </tr>\n",
       "    <tr>\n",
       "      <th>word_freq_our:</th>\n",
       "      <td>0.023119</td>\n",
       "      <td>-0.023760</td>\n",
       "      <td>0.077734</td>\n",
       "      <td>0.003238</td>\n",
       "      <td>1.000000</td>\n",
       "      <td>0.054054</td>\n",
       "      <td>0.147336</td>\n",
       "      <td>0.029598</td>\n",
       "      <td>0.020823</td>\n",
       "      <td>0.034495</td>\n",
       "      <td>...</td>\n",
       "      <td>-0.032759</td>\n",
       "      <td>-0.046361</td>\n",
       "      <td>-0.026390</td>\n",
       "      <td>0.025509</td>\n",
       "      <td>0.041582</td>\n",
       "      <td>0.002016</td>\n",
       "      <td>0.052662</td>\n",
       "      <td>0.052290</td>\n",
       "      <td>0.002492</td>\n",
       "      <td>0.241920</td>\n",
       "    </tr>\n",
       "    <tr>\n",
       "      <th>word_freq_over:</th>\n",
       "      <td>0.059674</td>\n",
       "      <td>-0.024840</td>\n",
       "      <td>0.087564</td>\n",
       "      <td>-0.010014</td>\n",
       "      <td>0.054054</td>\n",
       "      <td>1.000000</td>\n",
       "      <td>0.061163</td>\n",
       "      <td>0.079561</td>\n",
       "      <td>0.117438</td>\n",
       "      <td>0.013897</td>\n",
       "      <td>...</td>\n",
       "      <td>-0.019119</td>\n",
       "      <td>-0.008705</td>\n",
       "      <td>-0.015133</td>\n",
       "      <td>0.065043</td>\n",
       "      <td>0.105692</td>\n",
       "      <td>0.019894</td>\n",
       "      <td>-0.010278</td>\n",
       "      <td>0.090172</td>\n",
       "      <td>0.082089</td>\n",
       "      <td>0.232604</td>\n",
       "    </tr>\n",
       "  </tbody>\n",
       "</table>\n",
       "<p>6 rows × 58 columns</p>\n",
       "</div>"
      ],
      "text/plain": [
       "                    word_freq_make:  word_freq_address:  word_freq_all:  \\\n",
       "word_freq_make:            1.000000           -0.016759        0.065627   \n",
       "word_freq_address:        -0.016759            1.000000       -0.033526   \n",
       "word_freq_all:             0.065627           -0.033526        1.000000   \n",
       "word_freq_3d:              0.013273           -0.006923       -0.020246   \n",
       "word_freq_our:             0.023119           -0.023760        0.077734   \n",
       "word_freq_over:            0.059674           -0.024840        0.087564   \n",
       "\n",
       "                    word_freq_3d:  word_freq_our:  word_freq_over:  \\\n",
       "word_freq_make:          0.013273        0.023119         0.059674   \n",
       "word_freq_address:      -0.006923       -0.023760        -0.024840   \n",
       "word_freq_all:          -0.020246        0.077734         0.087564   \n",
       "word_freq_3d:            1.000000        0.003238        -0.010014   \n",
       "word_freq_our:           0.003238        1.000000         0.054054   \n",
       "word_freq_over:         -0.010014        0.054054         1.000000   \n",
       "\n",
       "                    word_freq_remove:  word_freq_internet:  word_freq_order:  \\\n",
       "word_freq_make:              0.007669            -0.003950          0.106263   \n",
       "word_freq_address:           0.003918            -0.016280         -0.003826   \n",
       "word_freq_all:               0.036677             0.012003          0.093786   \n",
       "word_freq_3d:                0.019784             0.010268         -0.002454   \n",
       "word_freq_our:               0.147336             0.029598          0.020823   \n",
       "word_freq_over:              0.061163             0.079561          0.117438   \n",
       "\n",
       "                    word_freq_mail:  ...  char_freq_;:  char_freq_(:  \\\n",
       "word_freq_make:            0.041198  ...     -0.026505     -0.021196   \n",
       "word_freq_address:         0.032962  ...     -0.007282     -0.049837   \n",
       "word_freq_all:             0.032075  ...     -0.033213     -0.016495   \n",
       "word_freq_3d:             -0.004947  ...     -0.000591     -0.012370   \n",
       "word_freq_our:             0.034495  ...     -0.032759     -0.046361   \n",
       "word_freq_over:            0.013897  ...     -0.019119     -0.008705   \n",
       "\n",
       "                    char_freq_[:  char_freq_!:  char_freq_$:  char_freq_#:  \\\n",
       "word_freq_make:        -0.033301      0.058292      0.117419     -0.008844   \n",
       "word_freq_address:     -0.018527     -0.014461     -0.009605      0.001946   \n",
       "word_freq_all:         -0.033120      0.108140      0.087618     -0.003336   \n",
       "word_freq_3d:          -0.007148     -0.003138      0.010862     -0.000298   \n",
       "word_freq_our:         -0.026390      0.025509      0.041582      0.002016   \n",
       "word_freq_over:        -0.015133      0.065043      0.105692      0.019894   \n",
       "\n",
       "                    capital_run_length_average:  capital_run_length_longest:  \\\n",
       "word_freq_make:                        0.044491                     0.061382   \n",
       "word_freq_address:                     0.002083                     0.000271   \n",
       "word_freq_all:                         0.097398                     0.107463   \n",
       "word_freq_3d:                          0.005260                     0.022081   \n",
       "word_freq_our:                         0.052662                     0.052290   \n",
       "word_freq_over:                       -0.010278                     0.090172   \n",
       "\n",
       "                    capital_run_length_total:      spam  \n",
       "word_freq_make:                      0.089165  0.126208  \n",
       "word_freq_address:                  -0.022680 -0.030224  \n",
       "word_freq_all:                       0.070114  0.196988  \n",
       "word_freq_3d:                        0.021369  0.057371  \n",
       "word_freq_our:                       0.002492  0.241920  \n",
       "word_freq_over:                      0.082089  0.232604  \n",
       "\n",
       "[6 rows x 58 columns]"
      ]
     },
     "execution_count": 63,
     "metadata": {},
     "output_type": "execute_result"
    }
   ],
   "source": [
    "data.corr().head(6)"
   ]
  },
  {
   "cell_type": "markdown",
   "id": "b19da6ca",
   "metadata": {},
   "source": [
    "## Question 3. Visualize the univariate distribution of each of the variables in the previous question. \n",
    "\n"
   ]
  },
  {
   "cell_type": "code",
   "execution_count": 16,
   "id": "f121463c",
   "metadata": {},
   "outputs": [
    {
     "name": "stderr",
     "output_type": "stream",
     "text": [
      "C:\\Users\\jvicm\\anaconda3\\lib\\site-packages\\seaborn\\distributions.py:2551: FutureWarning: `distplot` is a deprecated function and will be removed in a future version. Please adapt your code to use either `displot` (a figure-level function with similar flexibility) or `histplot` (an axes-level function for histograms).\n",
      "  warnings.warn(msg, FutureWarning)\n"
     ]
    },
    {
     "data": {
      "text/plain": [
       "<AxesSubplot:xlabel='word_freq_remove:', ylabel='Density'>"
      ]
     },
     "execution_count": 16,
     "metadata": {},
     "output_type": "execute_result"
    },
    {
     "data": {
      "image/png": "[encoded data removed]",
      "text/plain": [
       "<Figure size 432x288 with 1 Axes>"
      ]
     },
     "metadata": {
      "needs_background": "light"
     },
     "output_type": "display_data"
    }
   ],
   "source": [
    "sns.distplot(data['word_freq_remove:'],kde=True)"
   ]
  },
  {
   "cell_type": "code",
   "execution_count": 17,
   "id": "51f344ed",
   "metadata": {},
   "outputs": [
    {
     "name": "stderr",
     "output_type": "stream",
     "text": [
      "C:\\Users\\jvicm\\anaconda3\\lib\\site-packages\\seaborn\\distributions.py:2551: FutureWarning: `distplot` is a deprecated function and will be removed in a future version. Please adapt your code to use either `displot` (a figure-level function with similar flexibility) or `histplot` (an axes-level function for histograms).\n",
      "  warnings.warn(msg, FutureWarning)\n"
     ]
    },
    {
     "data": {
      "text/plain": [
       "<AxesSubplot:xlabel='word_freq_your:', ylabel='Density'>"
      ]
     },
     "execution_count": 17,
     "metadata": {},
     "output_type": "execute_result"
    },
    {
     "data": {
      "image/png": "[encoded data removed]",
      "text/plain": [
       "<Figure size 432x288 with 1 Axes>"
      ]
     },
     "metadata": {
      "needs_background": "light"
     },
     "output_type": "display_data"
    }
   ],
   "source": [
    "sns.distplot(data['word_freq_your:'],kde=True)"
   ]
  },
  {
   "cell_type": "code",
   "execution_count": 18,
   "id": "94fce417",
   "metadata": {},
   "outputs": [
    {
     "name": "stderr",
     "output_type": "stream",
     "text": [
      "C:\\Users\\jvicm\\anaconda3\\lib\\site-packages\\seaborn\\distributions.py:2551: FutureWarning: `distplot` is a deprecated function and will be removed in a future version. Please adapt your code to use either `displot` (a figure-level function with similar flexibility) or `histplot` (an axes-level function for histograms).\n",
      "  warnings.warn(msg, FutureWarning)\n"
     ]
    },
    {
     "data": {
      "text/plain": [
       "<AxesSubplot:xlabel='word_freq_000:', ylabel='Density'>"
      ]
     },
     "execution_count": 18,
     "metadata": {},
     "output_type": "execute_result"
    },
    {
     "data": {
      "image/png": "[encoded data removed]",
      "text/plain": [
       "<Figure size 432x288 with 1 Axes>"
      ]
     },
     "metadata": {
      "needs_background": "light"
     },
     "output_type": "display_data"
    }
   ],
   "source": [
    "sns.distplot(data['word_freq_000:'],kde=True)"
   ]
  },
  {
   "cell_type": "markdown",
   "id": "47f33912",
   "metadata": {},
   "source": [
    "#### 4. Name each of the supervised learning models that we have learned thus far that are used to predict dependent variables like \"spam\". \n",
    "#### KNN - K nearest neighbor K-NN algorithm  takes data which are the same or nearly the same and groups them into similar categories .As data comes in and it has a certain reltionship with a certain group of data it is grouped together in a category.\n",
    "#### SVMs are a commonly used supervised learning model for classification and regression. This method is successful with small data sets and works well with high-dimensional spaces.The system can quickly categorize fresh observations after being trained on a data set. It accomplishes this by using one or more hyperplanes to divide the data set into two categoriesNaïve Bayes is a method that  allows classifiers to be constructed very easily , it also works very well with small datasets.\n",
    "####  Penalized logistic regression- The logistic model is penalized for having too many variables in penalized logistic regression. The coefficients of the less important variables are reduced to zero as a result of this. Regularization is another term for it.\n",
    "#### Logistic regression -Logistic regression is a process by which the discrete outcome of a certain input is modelled with a known input variable.Most popular logistic models are binary in  nature that means the take two values such as yes/ no.It is mainly used in classification problems.\n"
   ]
  },
  {
   "cell_type": "markdown",
   "id": "06b22ee3",
   "metadata": {},
   "source": [
    "### Question 5. Describe the importance of training and test data. Why do we separate data into these subsets? \n",
    "Training data is used by algorithms to learn by means of observations , They are important as they have labels in which are put in a computer readable form for them to understand.The observations have one or more input variables and one output variable.\n",
    "Test data helps to measure the how accurate or efficient the algorithm used train the machine was.It also  ensures there is no overfitting or overtraining of the data. \n",
    "\n"
   ]
  },
  {
   "cell_type": "markdown",
   "id": "077e5891",
   "metadata": {},
   "source": [
    "### Question 6. What is k-fold cross validation and what do we use it for? \n",
    "Cross-validation  resamples models of learning on a data sample that is limited\n",
    "That k-fold cross validation is a method that helps helps to estimate how the  model is performing on new data\n",
    "In the procedure we take one parameter K that describes the group numbering in which the sample of data is split into hence its name K fold cross validation. It helps to disclose data that was unseen .It is a simple method and easy to learn.K is chosen  i.e 10 and it hence becomes k =10 fold cross validation\n"
   ]
  },
  {
   "cell_type": "markdown",
   "id": "3cd89104",
   "metadata": {},
   "source": [
    "## Question 7. How is k-fold cross validation different from stratified k-fold cross validation?\n",
    "\n",
    "### Stratified k-fold cross-validation is  similar to k-fold cross-validation only that isntead of random sampling it uses stratas.\n",
    "### KFold divides a dataset into K folds , the data is stratified to make sure that all folds contained in the dataset has the same mix of observations with a certain label.Therefore  strtified K-fold is a better version of KFold as it deals with imbalanced distributions. \n",
    "\n",
    "\n"
   ]
  },
  {
   "cell_type": "markdown",
   "id": "b43f734d",
   "metadata": {},
   "source": [
    "### Question 8. Choose one model from question four. Split the data into training and test subsets. Build a model with the three variables in the dataset that you think will be good predictors of \"spam\".\n",
    "\n",
    "#### Describe why you chose any particular parameters for your model (e.g.- if you used KNN how did you decide to choose a specific value for k). Run the model and evaluate prediction error in two ways: \n",
    "\n",
    "#### Answer \n",
    "#### In the logistic regression model, Parameters used are  C,  Inverse of regularization strength; must be a positive float. C: float, default=1.0 Smaller values indicate better regularization, such like in support vector machines.\n",
    " #### Also in logistic regression if you make C really high the model effectively becomes a logistic regression model...\n",
    "#### Without looking at the data, it's impossible to say which k value is ideal. If training samples of related classes form clusters, a k value of 1 to 10 will give decent results. When data is randomly distributed, it's impossible to predict which k value will produce the greatest results. In such circumstances, you must conduct an empirical analysis to discover it.\n",
    "   #### Rather than focusing on finding an appropriate k value, modify the data using techniques like SVD and PCA. Then KNN or SVM can categorize data extremely effectively..\n"
   ]
  },
  {
   "cell_type": "markdown",
   "id": "edc78c51",
   "metadata": {},
   "source": [
    "## a) Logistic regression"
   ]
  },
  {
   "cell_type": "code",
   "execution_count": 20,
   "id": "4d001864",
   "metadata": {},
   "outputs": [],
   "source": [
    "#Set up training and test data\n",
    "from sklearn.model_selection import train_test_split\n",
    "from sklearn.linear_model import LogisticRegression\n",
    "\n",
    "\n",
    "X_train, X_test, y_train, y_test = train_test_split(X, y, test_size=0.30) "
   ]
  },
  {
   "cell_type": "code",
   "execution_count": 21,
   "id": "07bf0ac3",
   "metadata": {},
   "outputs": [
    {
     "name": "stdout",
     "output_type": "stream",
     "text": [
      "training accuracy : 0.8118012422360248\n",
      "testing accuracy : 0.8196958725561188\n"
     ]
    },
    {
     "data": {
      "text/plain": [
       "'              precision    recall  f1-score   support\\n\\n           0       0.80      0.94      0.87       852\\n           1       0.87      0.62      0.73       529\\n\\n    accuracy                           0.82      1381\\n   macro avg       0.83      0.78      0.80      1381\\nweighted avg       0.83      0.82      0.81      1381\\n'"
      ]
     },
     "execution_count": 21,
     "metadata": {},
     "output_type": "execute_result"
    }
   ],
   "source": [
    "from sklearn.metrics import confusion_matrix, classification_report\n",
    "\n",
    "#Note: random_state ensures same data will be generated for example each time\n",
    "\n",
    "#Note: logistic regression in sklearn is preset to be a regularization model with C=100).\n",
    "#If you make C really high the model effectively becomes a logistic regression model...\n",
    "logreg = LogisticRegression(max_iter=10000)\n",
    "\n",
    "logreg.fit(X_train, y_train,)\n",
    "\n",
    "predict = logreg.predict(X_test)\n",
    "predict\n",
    "train_acc = logreg.score(X_train,y_train)\n",
    "test_acc = logreg.score(X_test,y_test)\n",
    "print(\"training accuracy :\", train_acc)\n",
    "\n",
    "print(\"testing accuracy :\", test_acc)\n",
    "\n",
    "confusion_matrix(predict,y_test)\n",
    "\n",
    "report = classification_report( y_test,predict)\n",
    "report"
   ]
  },
  {
   "cell_type": "code",
   "execution_count": 23,
   "id": "e13924bc",
   "metadata": {},
   "outputs": [
    {
     "data": {
      "text/plain": [
       "0.8122178161733465"
      ]
     },
     "execution_count": 23,
     "metadata": {},
     "output_type": "execute_result"
    }
   ],
   "source": [
    "from sklearn.model_selection import cross_val_score\n",
    "scores = cross_val_score(logreg, X, y, cv=5,)\n",
    "scores.mean()"
   ]
  },
  {
   "cell_type": "code",
   "execution_count": 24,
   "id": "5bfd6a48",
   "metadata": {},
   "outputs": [
    {
     "name": "stdout",
     "output_type": "stream",
     "text": [
      "Avg accuracy: 0.8139486852664873\n"
     ]
    }
   ],
   "source": [
    "from sklearn.model_selection import KFold \n",
    "k = 5\n",
    "kf = KFold(n_splits=k,shuffle=True, random_state=None)\n",
    "model = LogisticRegression(solver= 'liblinear')\n",
    " \n",
    "result = cross_val_score(model , X, y, cv = kf)\n",
    " \n",
    "print(\"Avg accuracy: {}\".format(result.mean()))"
   ]
  },
  {
   "cell_type": "code",
   "execution_count": 25,
   "id": "cbca659c",
   "metadata": {},
   "outputs": [
    {
     "name": "stdout",
     "output_type": "stream",
     "text": [
      "Avg accuracy: 0.811991455412359\n"
     ]
    }
   ],
   "source": [
    "from sklearn.model_selection import KFold \n",
    "k = 5\n",
    "kf = KFold(n_splits=k,shuffle=True, random_state=1)\n",
    "model = LogisticRegression(solver= 'liblinear')\n",
    " \n",
    "result = cross_val_score(model , X, y, cv = kf)\n",
    " \n",
    "print(\"Avg accuracy: {}\".format(result.mean()))"
   ]
  },
  {
   "cell_type": "markdown",
   "id": "1aa8b920",
   "metadata": {},
   "source": [
    "### Question 9. Choose a second model from question four. Using the same three variables in the dataset that you think will be good predictors of \"spam\". Describe why you chose any particular parameters for your model (e.g.- if you used KNN how did you decide to choose a specific value for k). Run the model and evaluate prediction error in two ways: A) On test data directly and B) using k-fold cross-validation. Did this model predict test data better than your previous model? \n",
    "\n",
    "### Yes the model support Vector machine performed better than logistic regression\n",
    "\n"
   ]
  },
  {
   "cell_type": "markdown",
   "id": "19aa632d",
   "metadata": {},
   "source": [
    "# Support Vector Machine "
   ]
  },
  {
   "cell_type": "code",
   "execution_count": 51,
   "id": "65b9fa15",
   "metadata": {},
   "outputs": [
    {
     "name": "stdout",
     "output_type": "stream",
     "text": [
      "The accuracy score is: 0.8436482084690554\n",
      "The auc score is: 0.8259266988265213\n",
      "[[501  37]\n",
      " [107 276]]\n",
      "              precision    recall  f1-score   support\n",
      "\n",
      "           0       0.82      0.93      0.87       538\n",
      "           1       0.88      0.72      0.79       383\n",
      "\n",
      "    accuracy                           0.84       921\n",
      "   macro avg       0.85      0.83      0.83       921\n",
      "weighted avg       0.85      0.84      0.84       921\n",
      "\n"
     ]
    }
   ],
   "source": [
    "import numpy as np\n",
    "from sklearn.pipeline import make_pipeline\n",
    "from sklearn.preprocessing import StandardScaler\n",
    "from sklearn.metrics import accuracy_score\n",
    "from sklearn.metrics import roc_auc_score\n",
    "from sklearn.svm import SVC\n",
    "clf = make_pipeline(StandardScaler(), SVC(gamma='auto'))\n",
    "clf.fit(X, y)\n",
    "# Train using 80% of the data.\n",
    "X_train, X_test, y_train, y_test = train_test_split(X, y, test_size=0.2, random_state=0)\n",
    "\n",
    "# The random_state variable is here to guarantee that we all see the same numbers.\n",
    "# Note that we can provide the same parameters as in the decision tree, such as \n",
    "# min_samples_split or max_depth\n",
    "svclassifier = SVC(kernel='linear')\n",
    "svclassifier.fit(X_train, y_train)\n",
    "\n",
    "# Predict based on the model we've trained\n",
    "y_pred = svclassifier.predict(X_test)\n",
    "print(f'The accuracy score is: {accuracy_score(y_test, y_pred)}')\n",
    "print(f'The auc score is: {roc_auc_score(y_test, y_pred)}')\n",
    "print(confusion_matrix(y_test, y_pred))\n",
    "print(classification_report(y_test, y_pred))"
   ]
  },
  {
   "cell_type": "markdown",
   "id": "5070690c",
   "metadata": {},
   "source": [
    "### Question 10. Choose a third model from question four. Using the same three variables in the dataset that you think will be good predictors of \"spam\". Describe why you chose any particular parameters for your model (e.g.- if you used KNN how did you decide to choose a specific value for k). Run the model and evaluate prediction error in two ways: A) On test data directly and B) using k-fold cross-validation. Did this model predict test data better than your previous models?\n",
    " ### The model performed better than Support vector machine and Logistic regression\n",
    "\n",
    " # K-Nearest Neighbors "
   ]
  },
  {
   "cell_type": "code",
   "execution_count": 36,
   "id": "31b3a48c",
   "metadata": {},
   "outputs": [
    {
     "name": "stdout",
     "output_type": "stream",
     "text": [
      "training accuracy : 0.8565217391304348\n",
      "testing accuracy : 0.8034744842562432\n"
     ]
    },
    {
     "data": {
      "text/plain": [
       "array([[483, 126],\n",
       "       [ 55, 257]], dtype=int64)"
      ]
     },
     "execution_count": 36,
     "metadata": {},
     "output_type": "execute_result"
    }
   ],
   "source": [
    "\n",
    "from sklearn.neighbors import KNeighborsClassifier\n",
    "classifier = KNeighborsClassifier()\n",
    "\n",
    "classifier.fit(X_train, y_train)\n",
    "\n",
    "knn_predict = classifier.predict(X_test)\n",
    "knn_predict\n",
    "train_acc = classifier.score(X_train,y_train)\n",
    "test_acc = classifier.score(X_test,y_test)\n",
    "print(\"training accuracy :\", train_acc)\n",
    "\n",
    "print(\"testing accuracy :\", test_acc)\n",
    "\n",
    "confusion_matrix(knn_predict,y_test)"
   ]
  },
  {
   "cell_type": "code",
   "execution_count": 37,
   "id": "ae9ad611",
   "metadata": {},
   "outputs": [
    {
     "data": {
      "text/plain": [
       "0.8159094556956049"
      ]
     },
     "execution_count": 37,
     "metadata": {},
     "output_type": "execute_result"
    }
   ],
   "source": [
    "from sklearn.model_selection import cross_val_score \n",
    "scores = cross_val_score(classifier, X, y, cv=5)\n",
    "scores.mean()"
   ]
  },
  {
   "cell_type": "markdown",
   "id": "cfaeedf0",
   "metadata": {},
   "source": [
    "## using k fold the model definitely produced better results 0.81162 compared to 0.81590 "
   ]
  },
  {
   "cell_type": "code",
   "execution_count": 38,
   "id": "b68038f2",
   "metadata": {},
   "outputs": [
    {
     "name": "stdout",
     "output_type": "stream",
     "text": [
      "Avg accuracy: 0.8161216541566351\n"
     ]
    }
   ],
   "source": [
    "k = 5\n",
    "kf = KFold(n_splits=k, shuffle=True,random_state=1)\n",
    "model = KNeighborsClassifier()\n",
    " \n",
    "result = cross_val_score(model , X, y, cv = kf)\n",
    " \n",
    "print(\"Avg accuracy: {}\".format(result.mean()))"
   ]
  },
  {
   "cell_type": "markdown",
   "id": "56a2655a",
   "metadata": {},
   "source": [
    "### Question 11. Choose a fourth model from question four. Using the same three variables in the dataset that you think will be good predictors of \"spam\". Describe why you chose any particular parameters for your model (e.g.- if you used KNN how did you decide to choose a specific value for k). Run the model and evaluate prediction error in two ways: A) On test data directly and B) using k-fold cross-validation. Did this model predict test data better than your previous models? \n",
    "                   ## NAIVE BAYES did not perform better than previous models."
   ]
  },
  {
   "cell_type": "code",
   "execution_count": 42,
   "id": "bfaea3bb",
   "metadata": {},
   "outputs": [
    {
     "name": "stdout",
     "output_type": "stream",
     "text": [
      "The accuracy score is: 0.7242128121606949\n",
      "The auc score is: 0.6710401156978267\n",
      "[[531   7]\n",
      " [247 136]]\n",
      "              precision    recall  f1-score   support\n",
      "\n",
      "           0       0.68      0.99      0.81       538\n",
      "           1       0.95      0.36      0.52       383\n",
      "\n",
      "    accuracy                           0.72       921\n",
      "   macro avg       0.82      0.67      0.66       921\n",
      "weighted avg       0.79      0.72      0.69       921\n",
      "\n"
     ]
    }
   ],
   "source": [
    "# Training the Model\n",
    "# We will start by splitting our data into training and test sets\n",
    "from sklearn.metrics import accuracy_score\n",
    "from sklearn.metrics import roc_auc_score\n",
    "\n",
    "X_train, X_test, y_train, y_test = train_test_split(X, y, test_size=0.2, random_state=0)\n",
    "\n",
    "# Fitting our model \n",
    "# Then, all that we have to do is initialize the Naive Bayes Classifier and fit the data. \n",
    "# For text classification problems, the Multinomial Naive Bayes Classifier is well-suited\n",
    "# \n",
    "from sklearn.naive_bayes import MultinomialNB\n",
    "\n",
    "model = MultinomialNB().fit(X_train, y_train)\n",
    "\n",
    "# Evaluating the Model\n",
    "# Once we have put together our classifier, we can evaluate its performance in the testing set\n",
    "# \n",
    "predicted = model.predict(X_test)\n",
    "print(f'The accuracy score is: {accuracy_score(y_test, predicted)}')\n",
    "print(f'The auc score is: {roc_auc_score(y_test, predicted)}')\n",
    "print(confusion_matrix(y_test, predicted))\n",
    "print(classification_report(y_test, predicted))\n"
   ]
  },
  {
   "cell_type": "markdown",
   "id": "53bad031",
   "metadata": {},
   "source": [
    "## Question 12. Now rerun your best model from questions 8 through 11, but this time add three new variables to the model that you think will increase prediction accuracy. Did this model predict test data better than your previous models? \n",
    "\n",
    "## The model had better predictions than the previous models"
   ]
  },
  {
   "cell_type": "code",
   "execution_count": 45,
   "id": "6c75f42b",
   "metadata": {},
   "outputs": [],
   "source": [
    "data_final2 =data[['word_freq_remove:', 'word_freq_your:', 'word_freq_000:','spam','word_freq_business:','word_freq_free:','char_freq_$:' ]]\n"
   ]
  },
  {
   "cell_type": "code",
   "execution_count": 48,
   "id": "d7fa1b8f",
   "metadata": {},
   "outputs": [],
   "source": [
    "#update data to set up for train test split\n",
    "X = data_final2.loc[:, data_final2.columns != 'spam']\n",
    "y = data_final2['spam']"
   ]
  },
  {
   "cell_type": "code",
   "execution_count": 49,
   "id": "aabb7019",
   "metadata": {},
   "outputs": [
    {
     "name": "stdout",
     "output_type": "stream",
     "text": [
      "training accuracy : 0.8565217391304348\n",
      "testing accuracy : 0.8034744842562432\n"
     ]
    },
    {
     "data": {
      "text/plain": [
       "array([[483, 126],\n",
       "       [ 55, 257]], dtype=int64)"
      ]
     },
     "execution_count": 49,
     "metadata": {},
     "output_type": "execute_result"
    }
   ],
   "source": [
    "from sklearn.neighbors import KNeighborsClassifier\n",
    "classifier = KNeighborsClassifier()\n",
    "\n",
    "classifier.fit(X_train, y_train)\n",
    "\n",
    "knn_predict = classifier.predict(X_test)\n",
    "knn_predict\n",
    "train_acc = classifier.score(X_train,y_train)\n",
    "test_acc = classifier.score(X_test,y_test)\n",
    "print(\"training accuracy :\", train_acc)\n",
    "\n",
    "print(\"testing accuracy :\", test_acc)\n",
    "\n",
    "confusion_matrix(knn_predict,y_test)"
   ]
  },
  {
   "cell_type": "code",
   "execution_count": 50,
   "id": "7041d566",
   "metadata": {},
   "outputs": [
    {
     "name": "stdout",
     "output_type": "stream",
     "text": [
      "Avg accuracy: 0.8761145730066563\n"
     ]
    }
   ],
   "source": [
    "k = 5\n",
    "kf = KFold(n_splits=k, shuffle=True,random_state= None)\n",
    "model = KNeighborsClassifier()\n",
    " \n",
    "result = cross_val_score(model , X, y, cv = kf)\n",
    " \n",
    "print(\"Avg accuracy: {}\".format(result.mean()))"
   ]
  },
  {
   "cell_type": "markdown",
   "id": "272d8c5f",
   "metadata": {},
   "source": [
    "## Question 13. Rerun all your other models with this final set of six variables, evaluate prediction error, and choose a final model. Why did you select this model among all of the models that you ran?\n",
    "\n",
    "## The best model in all the models is KNN which hs the highest accuracy score of 0.8626"
   ]
  },
  {
   "cell_type": "code",
   "execution_count": 53,
   "id": "84f9bc5c",
   "metadata": {},
   "outputs": [],
   "source": [
    "data_final2 =data[['word_freq_remove:', 'word_freq_your:', 'word_freq_000:','spam','word_freq_business:','word_freq_free:','char_freq_$:' ]]\n"
   ]
  },
  {
   "cell_type": "code",
   "execution_count": 54,
   "id": "53d632af",
   "metadata": {},
   "outputs": [],
   "source": [
    "#update data to set up for train test split\n",
    "X = data_final2.loc[:, data_final2.columns != 'spam']\n",
    "y = data_final2['spam']"
   ]
  },
  {
   "cell_type": "markdown",
   "id": "292129c9",
   "metadata": {},
   "source": [
    "## Logistic regression "
   ]
  },
  {
   "cell_type": "code",
   "execution_count": 55,
   "id": "ba306f6b",
   "metadata": {},
   "outputs": [
    {
     "name": "stdout",
     "output_type": "stream",
     "text": [
      "training accuracy : 0.8573369565217391\n",
      "testing accuracy : 0.8436482084690554\n"
     ]
    },
    {
     "data": {
      "text/plain": [
       "'              precision    recall  f1-score   support\\n\\n           0       0.82      0.94      0.88       538\\n           1       0.89      0.71      0.79       383\\n\\n    accuracy                           0.84       921\\n   macro avg       0.86      0.82      0.83       921\\nweighted avg       0.85      0.84      0.84       921\\n'"
      ]
     },
     "execution_count": 55,
     "metadata": {},
     "output_type": "execute_result"
    }
   ],
   "source": [
    "from sklearn.metrics import confusion_matrix, classification_report\n",
    "\n",
    "#Note: random_state ensures same data will be generated for example each time\n",
    "\n",
    "#Note: logistic regression in sklearn is preset to be a regularization model with C=100).\n",
    "#If you make C really high the model effectively becomes a logistic regression model...\n",
    "logreg = LogisticRegression(max_iter=10000)\n",
    "\n",
    "logreg.fit(X_train, y_train,)\n",
    "\n",
    "predict = logreg.predict(X_test)\n",
    "predict\n",
    "train_acc = logreg.score(X_train,y_train)\n",
    "test_acc = logreg.score(X_test,y_test)\n",
    "print(\"training accuracy :\", train_acc)\n",
    "\n",
    "print(\"testing accuracy :\", test_acc)\n",
    "\n",
    "confusion_matrix(predict,y_test)\n",
    "\n",
    "report = classification_report( y_test,predict)\n",
    "report"
   ]
  },
  {
   "cell_type": "markdown",
   "id": "f29f2d16",
   "metadata": {},
   "source": [
    "## B (using the second model svm with three additional variables)"
   ]
  },
  {
   "cell_type": "code",
   "execution_count": 56,
   "id": "06a2f92f",
   "metadata": {},
   "outputs": [],
   "source": [
    "data_final2 =data[['word_freq_remove:', 'word_freq_your:', 'word_freq_000:','spam','word_freq_business:','word_freq_free:','char_freq_$:' ]]\n"
   ]
  },
  {
   "cell_type": "code",
   "execution_count": 57,
   "id": "d8f9cdfc",
   "metadata": {},
   "outputs": [],
   "source": [
    "#update data to set up for train test split\n",
    "X = data_final2.loc[:, data_final2.columns != 'spam']\n",
    "y = data_final2['spam']"
   ]
  },
  {
   "cell_type": "code",
   "execution_count": 58,
   "id": "5d4ee085",
   "metadata": {},
   "outputs": [
    {
     "name": "stdout",
     "output_type": "stream",
     "text": [
      "The accuracy score is: 0.8436482084690554\n",
      "The auc score is: 0.8259266988265213\n",
      "[[501  37]\n",
      " [107 276]]\n",
      "              precision    recall  f1-score   support\n",
      "\n",
      "           0       0.82      0.93      0.87       538\n",
      "           1       0.88      0.72      0.79       383\n",
      "\n",
      "    accuracy                           0.84       921\n",
      "   macro avg       0.85      0.83      0.83       921\n",
      "weighted avg       0.85      0.84      0.84       921\n",
      "\n"
     ]
    }
   ],
   "source": [
    "import numpy as np\n",
    "from sklearn.pipeline import make_pipeline\n",
    "from sklearn.preprocessing import StandardScaler\n",
    "from sklearn.metrics import accuracy_score\n",
    "from sklearn.metrics import roc_auc_score\n",
    "from sklearn.svm import SVC\n",
    "clf = make_pipeline(StandardScaler(), SVC(gamma='auto'))\n",
    "clf.fit(X, y)\n",
    "# Train using 80% of the data.\n",
    "X_train, X_test, y_train, y_test = train_test_split(X, y, test_size=0.2, random_state=0)\n",
    "\n",
    "# The random_state variable is here to guarantee that we all see the same numbers.\n",
    "# Note that we can provide the same parameters as in the decision tree, such as \n",
    "# min_samples_split or max_depth\n",
    "svclassifier = SVC(kernel='linear')\n",
    "svclassifier.fit(X_train, y_train)\n",
    "\n",
    "# Predict based on the model we've trained\n",
    "y_pred = svclassifier.predict(X_test)\n",
    "print(f'The accuracy score is: {accuracy_score(y_test, y_pred)}')\n",
    "print(f'The auc score is: {roc_auc_score(y_test, y_pred)}')\n",
    "print(confusion_matrix(y_test, y_pred))\n",
    "print(classification_report(y_test, y_pred))"
   ]
  },
  {
   "cell_type": "markdown",
   "id": "699dfa7f",
   "metadata": {},
   "source": [
    "# c using KNN "
   ]
  },
  {
   "cell_type": "code",
   "execution_count": 59,
   "id": "4850eb75",
   "metadata": {},
   "outputs": [],
   "source": [
    "data_final2 =data[['word_freq_remove:', 'word_freq_your:', 'word_freq_000:','spam','word_freq_business:','word_freq_free:','char_freq_$:' ]]\n"
   ]
  },
  {
   "cell_type": "code",
   "execution_count": 60,
   "id": "0896abec",
   "metadata": {},
   "outputs": [],
   "source": [
    "#update data to set up for train test split\n",
    "X = data_final2.loc[:, data_final2.columns != 'spam']\n",
    "y = data_final2['spam']"
   ]
  },
  {
   "cell_type": "code",
   "execution_count": 61,
   "id": "b3dc1d07",
   "metadata": {},
   "outputs": [
    {
     "name": "stdout",
     "output_type": "stream",
     "text": [
      "training accuracy : 0.9010869565217391\n",
      "testing accuracy : 0.8773072747014115\n"
     ]
    },
    {
     "data": {
      "text/plain": [
       "array([[501,  76],\n",
       "       [ 37, 307]], dtype=int64)"
      ]
     },
     "execution_count": 61,
     "metadata": {},
     "output_type": "execute_result"
    }
   ],
   "source": [
    "\n",
    "from sklearn.neighbors import KNeighborsClassifier\n",
    "classifier = KNeighborsClassifier()\n",
    "\n",
    "classifier.fit(X_train, y_train)\n",
    "\n",
    "knn_predict = classifier.predict(X_test)\n",
    "knn_predict\n",
    "train_acc = classifier.score(X_train,y_train)\n",
    "test_acc = classifier.score(X_test,y_test)\n",
    "print(\"training accuracy :\", train_acc)\n",
    "\n",
    "print(\"testing accuracy :\", test_acc)\n",
    "\n",
    "confusion_matrix(knn_predict,y_test)"
   ]
  },
  {
   "cell_type": "code",
   "execution_count": 62,
   "id": "4f73e01e",
   "metadata": {},
   "outputs": [
    {
     "data": {
      "text/plain": [
       "0.8626382004437521"
      ]
     },
     "execution_count": 62,
     "metadata": {},
     "output_type": "execute_result"
    }
   ],
   "source": [
    "from sklearn.model_selection import cross_val_score \n",
    "scores = cross_val_score(classifier, X, y, cv=5)\n",
    "scores.mean()"
   ]
  },
  {
   "cell_type": "markdown",
   "id": "7c6560e9",
   "metadata": {},
   "source": [
    "## Question 14. What variable that currently is not in your model, if included, would be likely to increase your final model's predictive power? For this answer try to speculate about a variable outside the variables available in the data that would improve you model. \n",
    "\tword_freq_free:-This is because most spam mail are usually trying to give incentives and gifts \n"
   ]
  },
  {
   "cell_type": "markdown",
   "id": "43132866",
   "metadata": {},
   "source": [
    "   ## Question 15. Lastly, you have listed each of the models that we have learned to use to predict dependent variables like spam. List each model we have focused on in class thus far that you could use to evaluate data with a continuous dependent variable.\n",
    "\n",
    "# Support vector Machines\n",
    "# Logistic regression \n",
    "# Linear regression\n",
    "# Ridge regression\n",
    "# Decision trees\n"
   ]
  },
  {
   "cell_type": "code",
   "execution_count": null,
   "id": "be6a86f3",
   "metadata": {},
   "outputs": [],
   "source": []
  }
 ],
 "metadata": {
  "kernelspec": {
   "display_name": "Python 3",
   "language": "python",
   "name": "python3"
  },
  "language_info": {
   "codemirror_mode": {
    "name": "ipython",
    "version": 3
   },
   "file_extension": ".py",
   "mimetype": "text/x-python",
   "name": "python",
   "nbconvert_exporter": "python",
   "pygments_lexer": "ipython3",
   "version": "3.8.5"
  }
 },
 "nbformat": 4,
 "nbformat_minor": 5
}
